{
 "cells": [
  {
   "cell_type": "code",
   "execution_count": 1,
   "metadata": {},
   "outputs": [],
   "source": [
    "from utils import *"
   ]
  },
  {
   "cell_type": "code",
   "execution_count": 2,
   "metadata": {},
   "outputs": [],
   "source": [
    "db, engine, meta = db_connect()"
   ]
  },
  {
   "cell_type": "code",
   "execution_count": 3,
   "metadata": {},
   "outputs": [],
   "source": [
    "tables = db_tables(meta)"
   ]
  },
  {
   "cell_type": "code",
   "execution_count": null,
   "metadata": {},
   "outputs": [],
   "source": [
    "leg_map = get_leg_map(engine)"
   ]
  },
  {
   "cell_type": "code",
   "execution_count": null,
   "metadata": {},
   "outputs": [],
   "source": [
    "len(leg_map)"
   ]
  },
  {
   "cell_type": "code",
   "execution_count": null,
   "metadata": {},
   "outputs": [],
   "source": [
    "i = 0\n",
    "total = len(leg_map)\n",
    "for key, leg in leg_map.items():\n",
    "    term_tuples = sorted(list(set([(x[\"type\"], x[\"congress\"]) for x in leg[\"sponsored_bills\"]]).union(set([(x[\"type\"], x[\"congress\"]) for x in leg[\"cosponsored_bills\"]]))), key = lambda x : x[1])\n",
    "    term_dicts = [{\"chamber\" : \"senate\" if chamber == \"s\" else \"house\", \"congress\" : congress} for chamber, congress in term_tuples]\n",
    "    leg[\"congresses\"] = term_dicts\n",
    "    i += 1\n",
    "    if i % 1000 == 0:\n",
    "        print(\"Finished {} of {}\".format(i, total))\n",
    "                      \n",
    "                   "
   ]
  },
  {
   "cell_type": "code",
   "execution_count": null,
   "metadata": {},
   "outputs": [],
   "source": [
    "update_all(engine, tables[\"leg\"], leg_map)"
   ]
  },
  {
   "cell_type": "code",
   "execution_count": 4,
   "metadata": {},
   "outputs": [
    {
     "data": {
      "text/plain": [
       "{'actions': [{'acted_at': '1977-04-25',\n",
       "   'committee': 'Senate Committee on Finance',\n",
       "   'references': [],\n",
       "   'status': 'REFERRED',\n",
       "   'text': 'Referred to Senate Committee on Finance.',\n",
       "   'type': 'referral'}],\n",
       " 'amendments': [],\n",
       " 'bill_id': 's1379-95',\n",
       " 'bill_type': 's',\n",
       " 'committees': [{'activity': ['referral', 'in committee'],\n",
       "   'committee': 'Senate Finance',\n",
       "   'committee_id': 'SSFI'}],\n",
       " 'congress': '95',\n",
       " 'cosponsors': [{'district': None,\n",
       "   'name': 'Anderson, Wendell R.',\n",
       "   'sponsored_at': '1977-01-03',\n",
       "   'state': 'MN',\n",
       "   'thomas_id': '01273',\n",
       "   'title': 'Sen',\n",
       "   'withdrawn_at': None,\n",
       "   'bioguide_id': 'A000202'},\n",
       "  {'district': None,\n",
       "   'name': 'Durkin, John A.',\n",
       "   'sponsored_at': '1977-01-03',\n",
       "   'state': 'NH',\n",
       "   'thomas_id': '01322',\n",
       "   'title': 'Sen',\n",
       "   'withdrawn_at': None,\n",
       "   'bioguide_id': 'D000574'},\n",
       "  {'district': None,\n",
       "   'name': 'Hatfield, Mark O.',\n",
       "   'sponsored_at': '1977-01-03',\n",
       "   'state': 'OR',\n",
       "   'thomas_id': '01352',\n",
       "   'title': 'Sen',\n",
       "   'withdrawn_at': None,\n",
       "   'bioguide_id': 'H000343'},\n",
       "  {'district': None,\n",
       "   'name': 'Hollings, Ernest F.',\n",
       "   'sponsored_at': '1977-01-03',\n",
       "   'state': 'SC',\n",
       "   'thomas_id': '01361',\n",
       "   'title': 'Sen',\n",
       "   'withdrawn_at': None,\n",
       "   'bioguide_id': 'H000725'},\n",
       "  {'district': None,\n",
       "   'name': 'Humphrey, Hubert H.',\n",
       "   'sponsored_at': '1977-01-03',\n",
       "   'state': 'MN',\n",
       "   'thomas_id': '01366',\n",
       "   'title': 'Sen',\n",
       "   'withdrawn_at': None,\n",
       "   'bioguide_id': 'H000953'},\n",
       "  {'district': None,\n",
       "   'name': 'Leahy, Patrick J.',\n",
       "   'sponsored_at': '1977-01-03',\n",
       "   'state': 'VT',\n",
       "   'thomas_id': '01383',\n",
       "   'title': 'Sen',\n",
       "   'withdrawn_at': None,\n",
       "   'bioguide_id': 'L000174'},\n",
       "  {'district': None,\n",
       "   'name': 'Riegle, Donald W., Jr.',\n",
       "   'sponsored_at': '1977-01-03',\n",
       "   'state': 'MI',\n",
       "   'thomas_id': '00961',\n",
       "   'title': 'Sen',\n",
       "   'withdrawn_at': None,\n",
       "   'bioguide_id': 'R000249'},\n",
       "  {'district': None,\n",
       "   'name': 'Thurmond, Strom',\n",
       "   'sponsored_at': '1977-01-03',\n",
       "   'state': 'SC',\n",
       "   'thomas_id': '01448',\n",
       "   'title': 'Sen',\n",
       "   'withdrawn_at': None,\n",
       "   'bioguide_id': 'T000254'}],\n",
       " 'enacted_as': None,\n",
       " 'history': {'awaiting_signature': False, 'enacted': False, 'vetoed': False},\n",
       " 'introduced_at': '1977-04-25',\n",
       " 'number': '1379',\n",
       " 'official_title': 'A bill to amend the Internal Revenue Code of 1954 to suspend the imposition of interest on a deficiency of income taxes which results from an error of an employee of the Internal Revenue Service.',\n",
       " 'popular_title': None,\n",
       " 'related_bills': [],\n",
       " 'short_title': 'Taxpayer Assistance Fairness Act',\n",
       " 'sponsor': {'district': None,\n",
       "  'name': 'Sasser, Jim',\n",
       "  'state': 'TN',\n",
       "  'thomas_id': '01428',\n",
       "  'title': 'Sen',\n",
       "  'type': 'person',\n",
       "  'bioguide_id': 'S000068'},\n",
       " 'status': 'REFERRED',\n",
       " 'status_at': '1977-04-25',\n",
       " 'subjects': ['Income tax', 'Tax administration', 'Tax returns', 'Taxation'],\n",
       " 'subjects_top_term': 'Tax administration',\n",
       " 'summary': {'as': 'Introduced',\n",
       "  'date': '1977-04-25',\n",
       "  'text': 'Taxpayer Assistance Fairness Act - Amends the Internal Revenue Code to suspend interest on tax deficiencies resulting from advice obtained from Internal Revenue Service taxpayer assistance programs. Provides for the availability of written confirmations of certain oral advice given under these programs. Directs the Secretary of the Treasury to make annual reports on interest suspensions and taxpayer service errors. Orders the Secretary to make an efficiency report on the programs to certain Congressional Committees within six months after this enactment.'},\n",
       " 'titles': [{'as': 'introduced',\n",
       "   'title': 'Taxpayer Assistance Fairness Act',\n",
       "   'type': 'short'},\n",
       "  {'as': 'introduced',\n",
       "   'title': 'A bill to amend the Internal Revenue Code of 1954 to suspend the imposition of interest on a deficiency of income taxes which results from an error of an employee of the Internal Revenue Service.',\n",
       "   'type': 'official'}],\n",
       " 'updated_at': '2013-02-02T18:35:17-05:00'}"
      ]
     },
     "execution_count": 4,
     "metadata": {},
     "output_type": "execute_result"
    }
   ],
   "source": [
    "get_one_bill(engine)"
   ]
  },
  {
   "cell_type": "code",
   "execution_count": null,
   "metadata": {},
   "outputs": [],
   "source": []
  }
 ],
 "metadata": {
  "kernelspec": {
   "display_name": "Python 3",
   "language": "python",
   "name": "python3"
  },
  "language_info": {
   "codemirror_mode": {
    "name": "ipython",
    "version": 3
   },
   "file_extension": ".py",
   "mimetype": "text/x-python",
   "name": "python",
   "nbconvert_exporter": "python",
   "pygments_lexer": "ipython3",
   "version": "3.7.3"
  }
 },
 "nbformat": 4,
 "nbformat_minor": 4
}
