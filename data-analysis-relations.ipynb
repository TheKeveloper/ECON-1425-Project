{
 "cells": [
  {
   "cell_type": "code",
   "execution_count": 3,
   "metadata": {},
   "outputs": [],
   "source": [
    "from utils import *\n",
    "import math\n",
    "import matplotlib.pyplot as plt\n",
    "import numpy as np\n",
    "from scipy import stats\n",
    "import sqlalchemy\n",
    "from sqlalchemy import Column, Integer, Text  \n",
    "from sqlalchemy.dialects.postgresql import JSON, JSONB"
   ]
  },
  {
   "cell_type": "code",
   "execution_count": null,
   "metadata": {},
   "outputs": [],
   "source": [
    "cosponsor_relations = get_json(\"data/cosponsor_relations.json\")"
   ]
  },
  {
   "cell_type": "code",
   "execution_count": null,
   "metadata": {},
   "outputs": [],
   "source": [
    "leg_map = get_json(\"data/recent_legislators_map_nominate.json\")"
   ]
  },
  {
   "cell_type": "code",
   "execution_count": null,
   "metadata": {},
   "outputs": [],
   "source": [
    "bills_map = get_json(\"data/bills_map.json\")"
   ]
  },
  {
   "cell_type": "code",
   "execution_count": 2,
   "metadata": {},
   "outputs": [],
   "source": []
  },
  {
   "cell_type": "code",
   "execution_count": null,
   "metadata": {},
   "outputs": [],
   "source": [
    "def relations_score(a_id, b_id):\n",
    "    ab_rel = cosponsor_relations[a_id].get(b_id, {\"total\" : 0, \"average\" : 0})\n",
    "    ba_rel = cosponsor_relations[b_id].get(a_id, {\"total\" : 0, \"average\" : 0})\n",
    "    shared_years = min(len(ab_rel.keys()) - 2, len(ba_rel.keys()) - 2)\n",
    "    return math.sqrt(shared_years * ab_rel[\"average\"] * ba_rel[\"average\"])"
   ]
  },
  {
   "cell_type": "code",
   "execution_count": null,
   "metadata": {},
   "outputs": [],
   "source": [
    "def nominate_distance(a_id, b_id):\n",
    "    if \"nominate\" not in leg_map[a_id] or \"nominate\" not in leg_map[b_id]:\n",
    "        return -1\n",
    "    a_nominate = leg_map[a_id][\"nominate\"]\n",
    "    b_nominate = leg_map[b_id][\"nominate\"]\n",
    "    return math.sqrt((a_nominate[\"dim1\"] - b_nominate[\"dim1\"])**2 + (a_nominate[\"dim2\"] - b_nominate[\"dim2\"])**2)"
   ]
  },
  {
   "cell_type": "code",
   "execution_count": null,
   "metadata": {},
   "outputs": [],
   "source": [
    "def same_state(a_id, b_id):\n",
    "    return 1 if leg_map[a_id][\"state\"] == leg_map[b_id][\"state\"] else 0"
   ]
  },
  {
   "cell_type": "code",
   "execution_count": null,
   "metadata": {},
   "outputs": [],
   "source": [
    "keys = list(cosponsor_relations.keys())"
   ]
  },
  {
   "cell_type": "code",
   "execution_count": null,
   "metadata": {},
   "outputs": [],
   "source": [
    "list(leg_map.values())[0]"
   ]
  },
  {
   "cell_type": "code",
   "execution_count": null,
   "metadata": {},
   "outputs": [],
   "source": [
    "def score_all(keys, verbose = False):\n",
    "    scores_map = PairMap()\n",
    "    i = 0\n",
    "    total = len(keys) ** 2\n",
    "    for a in keys:\n",
    "        for b in keys: \n",
    "            if a != b:\n",
    "                pair_data = {\n",
    "                    \"relations_score\" : relations_score(a, b),\n",
    "                    \"nominate_distance\" : nominate_distance(a, b),\n",
    "                    \"same_state\" : same_state(a, b)\n",
    "                }\n",
    "                scores_map.put(a, b, pair_data)\n",
    "            i += 1\n",
    "            if (verbose and i % 100000 == 0):\n",
    "                print(\"Finished {} of {}\".format(i, total))\n",
    "    return scores_map"
   ]
  },
  {
   "cell_type": "code",
   "execution_count": null,
   "metadata": {},
   "outputs": [],
   "source": [
    "scores_map = score_all(keys, verbose = True)"
   ]
  },
  {
   "cell_type": "code",
   "execution_count": null,
   "metadata": {},
   "outputs": [],
   "source": [
    "sorted_scores = sorted(scores_map.items(), key = lambda x : x[1][\"relations_score\"], reverse = True)"
   ]
  },
  {
   "cell_type": "code",
   "execution_count": null,
   "metadata": {},
   "outputs": [],
   "source": [
    "scores_keys = list(scores_map.map.keys())"
   ]
  },
  {
   "cell_type": "code",
   "execution_count": null,
   "metadata": {},
   "outputs": [],
   "source": [
    "sorted_scores[0]"
   ]
  },
  {
   "cell_type": "code",
   "execution_count": null,
   "metadata": {},
   "outputs": [],
   "source": [
    "def score_str(key):\n",
    "    a_name = leg_map[key[0]][\"name\"][\"first\"] + \" \" + leg_map[key[0]][\"name\"][\"last\"]\n",
    "    b_name = leg_map[key[1]][\"name\"][\"first\"] + \" \" + leg_map[key[1]][\"name\"][\"last\"]\n",
    "    return \"{}-{}: {}\".format(a_name, b_name, scores_map.get(key[0], key[1]))"
   ]
  },
  {
   "cell_type": "code",
   "execution_count": null,
   "metadata": {},
   "outputs": [],
   "source": [
    "len(list(cosponsor_relations.keys()))"
   ]
  },
  {
   "cell_type": "code",
   "execution_count": null,
   "metadata": {},
   "outputs": [],
   "source": [
    "pair_data = [x[1] for x in sorted_scores if x[1][\"relations_score\"] > 0.01 and x[1][\"nominate_distance\"] >= 0]"
   ]
  },
  {
   "cell_type": "code",
   "execution_count": null,
   "metadata": {},
   "outputs": [],
   "source": [
    "xs = [x[\"same_state\"] for x in pair_data]\n",
    "ys = [x[\"relations_score\"] for x in pair_data]"
   ]
  },
  {
   "cell_type": "code",
   "execution_count": null,
   "metadata": {},
   "outputs": [],
   "source": [
    "reg = stats.linregress(xs, ys)\n",
    "reg"
   ]
  },
  {
   "cell_type": "code",
   "execution_count": null,
   "metadata": {},
   "outputs": [],
   "source": [
    "def plot_data(pair_data, xkey, ykey, plot_reg= False):\n",
    "    xs = [x[xkey] for x in pair_data]\n",
    "    ys = [x[ykey] for x in pair_data]\n",
    "    plt.plot(xs, ys, \"o\", alpha = 0.2)\n",
    "    if plot_reg:\n",
    "        reg = stats.linregress(xs, ys)\n",
    "        print(reg)\n",
    "        plt.plot([min(xs), max(xs)], [min(xs) * reg.slope + reg.intercept, max(xs) * reg.slope + reg.intercept], \"-\", linewidth = 4)\n",
    "    plt.ylabel(ykey)\n",
    "    plt.show()\n",
    "    "
   ]
  },
  {
   "cell_type": "code",
   "execution_count": null,
   "metadata": {},
   "outputs": [],
   "source": [
    "plot_data(pair_data, \"nominate_distance\", \"relations_score\", reg)"
   ]
  },
  {
   "cell_type": "code",
   "execution_count": null,
   "metadata": {},
   "outputs": [],
   "source": [
    "save_csv(pair_data, \"data/pair_scores.csv\")"
   ]
  },
  {
   "cell_type": "code",
   "execution_count": null,
   "metadata": {},
   "outputs": [],
   "source": [
    "len(xs)"
   ]
  },
  {
   "cell_type": "code",
   "execution_count": null,
   "metadata": {},
   "outputs": [],
   "source": [
    "same_state('K000302', 'P000218')"
   ]
  },
  {
   "cell_type": "code",
   "execution_count": null,
   "metadata": {},
   "outputs": [],
   "source": [
    "sorted_scores[0]"
   ]
  },
  {
   "cell_type": "code",
   "execution_count": null,
   "metadata": {},
   "outputs": [],
   "source": []
  }
 ],
 "metadata": {
  "kernelspec": {
   "display_name": "Python 3",
   "language": "python",
   "name": "python3"
  },
  "language_info": {
   "codemirror_mode": {
    "name": "ipython",
    "version": 3
   },
   "file_extension": ".py",
   "mimetype": "text/x-python",
   "name": "python",
   "nbconvert_exporter": "python",
   "pygments_lexer": "ipython3",
   "version": "3.7.3"
  }
 },
 "nbformat": 4,
 "nbformat_minor": 2
}
