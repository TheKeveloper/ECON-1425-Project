{
 "cells": [
  {
   "cell_type": "code",
   "execution_count": 18,
   "metadata": {},
   "outputs": [],
   "source": [
    "import json\n",
    "import csv"
   ]
  },
  {
   "cell_type": "code",
   "execution_count": 2,
   "metadata": {},
   "outputs": [],
   "source": [
    "def get_json(path : str):\n",
    "    with open(path, \"r\") as f:\n",
    "        return json.load(f)"
   ]
  },
  {
   "cell_type": "code",
   "execution_count": 17,
   "metadata": {},
   "outputs": [],
   "source": [
    "def save_json(obj : any, path : str):\n",
    "    with open(path, \"w+\") as f:\n",
    "        json.dump(obj, f)"
   ]
  },
  {
   "cell_type": "code",
   "execution_count": 19,
   "metadata": {},
   "outputs": [],
   "source": [
    "def save_csv(obj : list, path : str):\n",
    "    headers = obj[0].keys() \n",
    "    with open(path, \"w+\") as f:\n",
    "        writer = csv.DictWriter(f, headers)\n",
    "        writer.writeheader()\n",
    "        writer.writerows(obj)"
   ]
  },
  {
   "cell_type": "code",
   "execution_count": 3,
   "metadata": {},
   "outputs": [],
   "source": [
    "legislators = get_json(\"data/recent_legislators_map.json\")"
   ]
  },
  {
   "cell_type": "code",
   "execution_count": 22,
   "metadata": {},
   "outputs": [],
   "source": [
    "senate_bills = get_json(\"data/senate_bills.json\")"
   ]
  },
  {
   "cell_type": "code",
   "execution_count": 21,
   "metadata": {},
   "outputs": [],
   "source": [
    "house_bills = get_json(\"data/house_bills.json\")"
   ]
  },
  {
   "cell_type": "code",
   "execution_count": 29,
   "metadata": {},
   "outputs": [],
   "source": [
    "def set_cosponsor_counts(bills : list):\n",
    "    for bill in bills:\n",
    "        sponsor = bill[\"sponsor\"]\n",
    "        if \"thomas_id\" in sponsor and sponsor[\"thomas_id\"] in legislators:\n",
    "            sponsor[\"party\"] = legislators[sponsor[\"thomas_id\"]][\"party\"]\n",
    "        elif \"bioguide_id\" in sponsor and sponsor[\"bioguide_id\"] in legislators:\n",
    "            sponsor[\"party\"] = legislators[sponsor[\"bioguide_id\"]][\"party\"]\n",
    "        else:\n",
    "            sponsor[\"party\"] = \"unknown\"\n",
    "        cosponsor_party_count = {}\n",
    "        for cosponsor in bill[\"cosponsors\"]: \n",
    "            if \"thomas_id\" in cosponsor and cosponsor[\"thomas_id\"] in legislators:\n",
    "                cosponsor[\"party\"] = legislators[cosponsor[\"thomas_id\"]][\"party\"]\n",
    "            elif \"bioguide_id\" in cosponsor and cosponsor[\"bioguide_id\"] in legislators:\n",
    "                cosponsor[\"party\"] = legislators[cosponsor[\"bioguide_id\"]][\"party\"]\n",
    "            else:\n",
    "                cosponsor[\"party\"] = \"unknown\"\n",
    "            if cosponsor[\"party\"] not in cosponsor_party_count:\n",
    "                cosponsor_party_count[cosponsor[\"party\"]] = 0\n",
    "            cosponsor_party_count[cosponsor[\"party\"]] += 1\n",
    "        bill[\"cosponsor_party_count\"] = cosponsor_party_count"
   ]
  },
  {
   "cell_type": "code",
   "execution_count": 30,
   "metadata": {},
   "outputs": [],
   "source": [
    "set_cosponsor_counts(senate_bills)\n",
    "set_cosponsor_counts(house_bills)"
   ]
  },
  {
   "cell_type": "code",
   "execution_count": 34,
   "metadata": {},
   "outputs": [
    {
     "data": {
      "text/plain": [
       "['Republican',\n",
       " 'Independent',\n",
       " 'Conservative',\n",
       " 'Popular Democrat',\n",
       " 'New Progressive',\n",
       " 'multiple',\n",
       " 'Democrat']"
      ]
     },
     "execution_count": 34,
     "metadata": {},
     "output_type": "execute_result"
    }
   ],
   "source": [
    "parties = list(set([leg[\"party\"] for leg in legislators.values()]))\n",
    "parties"
   ]
  },
  {
   "cell_type": "code",
   "execution_count": 38,
   "metadata": {},
   "outputs": [],
   "source": [
    "cosponsor_count_info = []\n",
    "for bill in senate_bills + house_bills:\n",
    "    count_info = {\n",
    "        \"bill_id\" : bill[\"bill_id\"],\n",
    "        \"type\" :  bill[\"bill_type\"],\n",
    "        \"sponsor_party\" : bill[\"sponsor\"][\"party\"],\n",
    "        \"congress\" : bill[\"congress\"]\n",
    "    }\n",
    "    for party in parties + [\"unknown\"]:\n",
    "        count_info[party] = bill[\"cosponsor_party_count\"][party] if party in bill[\"cosponsor_party_count\"] else 0\n",
    "    cosponsor_count_info.append(count_info)"
   ]
  },
  {
   "cell_type": "code",
   "execution_count": 41,
   "metadata": {},
   "outputs": [],
   "source": [
    "save_csv(cosponsor_count_info, \"data/cosponsor_party_count.csv\")"
   ]
  },
  {
   "cell_type": "code",
   "execution_count": null,
   "metadata": {},
   "outputs": [],
   "source": []
  }
 ],
 "metadata": {
  "kernelspec": {
   "display_name": "Python 3",
   "language": "python",
   "name": "python3"
  },
  "language_info": {
   "codemirror_mode": {
    "name": "ipython",
    "version": 3
   },
   "file_extension": ".py",
   "mimetype": "text/x-python",
   "name": "python",
   "nbconvert_exporter": "python",
   "pygments_lexer": "ipython3",
   "version": "3.7.0"
  }
 },
 "nbformat": 4,
 "nbformat_minor": 2
}
