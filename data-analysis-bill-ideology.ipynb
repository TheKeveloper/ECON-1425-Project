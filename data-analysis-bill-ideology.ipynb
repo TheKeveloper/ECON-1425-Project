{
 "cells": [
  {
   "cell_type": "code",
   "execution_count": 1,
   "metadata": {},
   "outputs": [],
   "source": [
    "from utils import *\n",
    "import numpy as np\n",
    "from scipy.spatial.distance import pdist, squareform"
   ]
  },
  {
   "cell_type": "code",
   "execution_count": 2,
   "metadata": {},
   "outputs": [],
   "source": [
    "db, engine, meta = db_connect()"
   ]
  },
  {
   "cell_type": "code",
   "execution_count": 3,
   "metadata": {},
   "outputs": [],
   "source": [
    "tables = db_tables(meta)"
   ]
  },
  {
   "cell_type": "code",
   "execution_count": 4,
   "metadata": {},
   "outputs": [],
   "source": [
    "leg_map = get_leg_map(engine)"
   ]
  },
  {
   "cell_type": "code",
   "execution_count": 9,
   "metadata": {},
   "outputs": [],
   "source": [
    "bills_map = get_bills_map(engine)"
   ]
  },
  {
   "cell_type": "code",
   "execution_count": 5,
   "metadata": {},
   "outputs": [
    {
     "data": {
      "text/plain": [
       "{'110': {'chamber': 'senate',\n",
       "  'congress': 110,\n",
       "  'bills_sponsored': 15,\n",
       "  'total_cosponsors': 28,\n",
       "  'bills_cosponsored': 61,\n",
       "  'cosponsors_per_bill': 1.8666666666666667,\n",
       "  'cosponsored_sponsored_ratio': 4.066666666666666,\n",
       "  'z_bills_sponsored': -0.833809634522492,\n",
       "  'z_bills_cosponsored': -1.3986844463050083,\n",
       "  'z_cosponsors_per_bill': -1.1806980542049446,\n",
       "  'z_cosponsored_sponsored_ratio': -0.6065545631607324,\n",
       "  'experience': 0,\n",
       "  'committee_rank_recips': 0.13392857142857142,\n",
       "  'committee_min_rank': 14.0,\n",
       "  'committee_count': 4,\n",
       "  'max_coeff': -0.05,\n",
       "  'leadership': 0},\n",
       " '111': {'chamber': 'senate',\n",
       "  'congress': 111,\n",
       "  'bills_sponsored': 16,\n",
       "  'total_cosponsors': 31,\n",
       "  'bills_cosponsored': 88,\n",
       "  'cosponsors_per_bill': 1.9375,\n",
       "  'cosponsored_sponsored_ratio': 5.5,\n",
       "  'z_bills_sponsored': -0.7390674214923396,\n",
       "  'z_bills_cosponsored': -0.7832512437234525,\n",
       "  'z_cosponsors_per_bill': -0.5368520518913603,\n",
       "  'z_cosponsored_sponsored_ratio': -0.11193706915066166,\n",
       "  'experience': 1,\n",
       "  'committee_rank_recips': 0.13392857142857142,\n",
       "  'committee_min_rank': 14.0,\n",
       "  'committee_count': 4,\n",
       "  'max_coeff': -0.05,\n",
       "  'leadership': 0},\n",
       " '112': {'chamber': 'senate',\n",
       "  'congress': 112,\n",
       "  'bills_sponsored': 18,\n",
       "  'total_cosponsors': 200,\n",
       "  'bills_cosponsored': 163,\n",
       "  'cosponsors_per_bill': 11.11111111111111,\n",
       "  'cosponsored_sponsored_ratio': 9.055555555555555,\n",
       "  'z_bills_sponsored': -0.5551662819757334,\n",
       "  'z_bills_cosponsored': 0.04570116543296769,\n",
       "  'z_cosponsors_per_bill': 1.6990809169607446,\n",
       "  'z_cosponsored_sponsored_ratio': 0.13626394893896254,\n",
       "  'experience': 2,\n",
       "  'committee_rank_recips': 0.13392857142857142,\n",
       "  'committee_min_rank': 14.0,\n",
       "  'committee_count': 4,\n",
       "  'max_coeff': -0.05,\n",
       "  'leadership': 0},\n",
       " '113': {'chamber': 'senate',\n",
       "  'congress': 113,\n",
       "  'bills_sponsored': 27,\n",
       "  'total_cosponsors': 258,\n",
       "  'bills_cosponsored': 154,\n",
       "  'cosponsors_per_bill': 9.555555555555555,\n",
       "  'cosponsored_sponsored_ratio': 5.703703703703703,\n",
       "  'z_bills_sponsored': -0.0957320685780494,\n",
       "  'z_bills_cosponsored': -0.1929160484333198,\n",
       "  'z_cosponsors_per_bill': 1.214617479760712,\n",
       "  'z_cosponsored_sponsored_ratio': -0.3594595623244047,\n",
       "  'experience': 3,\n",
       "  'committee_rank_recips': 0.13392857142857142,\n",
       "  'committee_min_rank': 14.0,\n",
       "  'committee_count': 4,\n",
       "  'max_coeff': -0.05,\n",
       "  'leadership': 0},\n",
       " '114': {'chamber': 'senate',\n",
       "  'congress': 114,\n",
       "  'bills_sponsored': 35,\n",
       "  'total_cosponsors': 241,\n",
       "  'bills_cosponsored': 134,\n",
       "  'cosponsors_per_bill': 6.885714285714286,\n",
       "  'cosponsored_sponsored_ratio': 3.8285714285714287,\n",
       "  'z_bills_sponsored': -0.024274966236932614,\n",
       "  'z_bills_cosponsored': -0.7686824672987472,\n",
       "  'z_cosponsors_per_bill': 0.5367680212937428,\n",
       "  'z_cosponsored_sponsored_ratio': -0.7836605742158744,\n",
       "  'experience': 4,\n",
       "  'committee_rank_recips': 0.13392857142857142,\n",
       "  'committee_min_rank': 14.0,\n",
       "  'committee_count': 4,\n",
       "  'max_coeff': -0.05,\n",
       "  'leadership': 0},\n",
       " '115': {'chamber': 'senate',\n",
       "  'congress': 115,\n",
       "  'bills_sponsored': 28,\n",
       "  'total_cosponsors': 196,\n",
       "  'bills_cosponsored': 104,\n",
       "  'cosponsors_per_bill': 7.0,\n",
       "  'cosponsored_sponsored_ratio': 3.7142857142857144,\n",
       "  'z_bills_sponsored': -0.4150039254240663,\n",
       "  'z_bills_cosponsored': -0.9416169048152673,\n",
       "  'z_cosponsors_per_bill': 0.5315426297893185,\n",
       "  'z_cosponsored_sponsored_ratio': -0.7094440607212751,\n",
       "  'experience': 5,\n",
       "  'committee_rank_recips': 0.13392857142857142,\n",
       "  'committee_min_rank': 14.0,\n",
       "  'committee_count': 4,\n",
       "  'max_coeff': -0.05,\n",
       "  'leadership': 0}}"
      ]
     },
     "execution_count": 5,
     "metadata": {},
     "output_type": "execute_result"
    }
   ],
   "source": [
    "list(leg_map.values())[0][\"congress_map\"]"
   ]
  },
  {
   "cell_type": "code",
   "execution_count": 6,
   "metadata": {},
   "outputs": [],
   "source": [
    "def get_mean_point(pts):\n",
    "    if len(pts) == 0:\n",
    "        return None\n",
    "    return sum(pts) / len(pts)"
   ]
  },
  {
   "cell_type": "code",
   "execution_count": 7,
   "metadata": {},
   "outputs": [],
   "source": [
    "def pts_variance(pts):\n",
    "    if len(pts) == 0:\n",
    "        return None\n",
    "    mean_point = get_mean_point(pts)\n",
    "    return sum([np.linalg.norm(p) for p in pts - mean_point]) / len(pts)"
   ]
  },
  {
   "cell_type": "code",
   "execution_count": 8,
   "metadata": {},
   "outputs": [],
   "source": [
    "def get_nominates(leg_map : dict, legislators : list):\n",
    "    pts = []\n",
    "    for leg in legislators:\n",
    "        if leg[\"bioguide_id\"] in leg_map and \"nominate\" in leg_map[leg[\"bioguide_id\"]]:\n",
    "            nominate = leg_map[leg[\"bioguide_id\"]][\"nominate\"]\n",
    "            pts.append([nominate[\"dim1\"], nominate[\"dim2\"]])\n",
    "    return np.array(pts)"
   ]
  },
  {
   "cell_type": "code",
   "execution_count": null,
   "metadata": {},
   "outputs": [],
   "source": [
    "get_bills_count(engine)"
   ]
  },
  {
   "cell_type": "code",
   "execution_count": 14,
   "metadata": {},
   "outputs": [
    {
     "ename": "TypeError",
     "evalue": "'>' not supported between instances of 'int' and 'NoneType'",
     "output_type": "error",
     "traceback": [
      "\u001b[0;31m---------------------------------------------------------------------------\u001b[0m",
      "\u001b[0;31mTypeError\u001b[0m                                 Traceback (most recent call last)",
      "\u001b[0;32m<ipython-input-14-b84a605e1883>\u001b[0m in \u001b[0;36m<module>\u001b[0;34m\u001b[0m\n\u001b[1;32m     17\u001b[0m         \u001b[0mcongress_map\u001b[0m \u001b[0;34m=\u001b[0m \u001b[0mleg_map\u001b[0m\u001b[0;34m[\u001b[0m\u001b[0mcosponsor\u001b[0m\u001b[0;34m[\u001b[0m\u001b[0;34m\"bioguide_id\"\u001b[0m\u001b[0;34m]\u001b[0m\u001b[0;34m]\u001b[0m\u001b[0;34m[\u001b[0m\u001b[0;34m\"congress_map\"\u001b[0m\u001b[0;34m]\u001b[0m\u001b[0;34m\u001b[0m\u001b[0;34m\u001b[0m\u001b[0m\n\u001b[1;32m     18\u001b[0m         \u001b[0mmax_cosponsor_experience\u001b[0m \u001b[0;34m=\u001b[0m \u001b[0mmax\u001b[0m\u001b[0;34m(\u001b[0m\u001b[0mmax_cosponsor_experience\u001b[0m\u001b[0;34m,\u001b[0m \u001b[0mcongress_map\u001b[0m\u001b[0;34m[\u001b[0m\u001b[0mbill\u001b[0m\u001b[0;34m[\u001b[0m\u001b[0;34m\"congress\"\u001b[0m\u001b[0;34m]\u001b[0m\u001b[0;34m]\u001b[0m\u001b[0;34m[\u001b[0m\u001b[0;34m\"experience\"\u001b[0m\u001b[0;34m]\u001b[0m\u001b[0;34m)\u001b[0m\u001b[0;34m\u001b[0m\u001b[0;34m\u001b[0m\u001b[0m\n\u001b[0;32m---> 19\u001b[0;31m         \u001b[0mmax_cosponsor_committee_rank_recips\u001b[0m \u001b[0;34m=\u001b[0m \u001b[0mmax\u001b[0m\u001b[0;34m(\u001b[0m\u001b[0mmax_cosponsor_committee_rank_recips\u001b[0m\u001b[0;34m,\u001b[0m \u001b[0mcongress_map\u001b[0m\u001b[0;34m[\u001b[0m\u001b[0mbill\u001b[0m\u001b[0;34m[\u001b[0m\u001b[0;34m\"congress\"\u001b[0m\u001b[0;34m]\u001b[0m\u001b[0;34m]\u001b[0m\u001b[0;34m[\u001b[0m\u001b[0;34m\"committee_rank_recips\"\u001b[0m\u001b[0;34m]\u001b[0m\u001b[0;34m)\u001b[0m\u001b[0;34m\u001b[0m\u001b[0;34m\u001b[0m\u001b[0m\n\u001b[0m\u001b[1;32m     20\u001b[0m         \u001b[0;32mif\u001b[0m \u001b[0mcongress_map\u001b[0m\u001b[0;34m[\u001b[0m\u001b[0mbill\u001b[0m\u001b[0;34m[\u001b[0m\u001b[0;34m\"congress\"\u001b[0m\u001b[0;34m]\u001b[0m\u001b[0;34m]\u001b[0m\u001b[0;34m[\u001b[0m\u001b[0;34m\"leadership\"\u001b[0m\u001b[0;34m]\u001b[0m \u001b[0;34m==\u001b[0m \u001b[0;36m1\u001b[0m\u001b[0;34m:\u001b[0m\u001b[0;34m\u001b[0m\u001b[0;34m\u001b[0m\u001b[0m\n\u001b[1;32m     21\u001b[0m             \u001b[0mcosponsor_leadership\u001b[0m \u001b[0;34m=\u001b[0m \u001b[0;36m1\u001b[0m\u001b[0;34m\u001b[0m\u001b[0;34m\u001b[0m\u001b[0m\n",
      "\u001b[0;31mTypeError\u001b[0m: '>' not supported between instances of 'int' and 'NoneType'"
     ]
    }
   ],
   "source": [
    "# def set_cosponsor_counts(bills : list):\n",
    "total = get_bills_count(engine)\n",
    "i = 0\n",
    "for bill in bills_map.values():\n",
    "    sponsor = bill[\"sponsor\"]\n",
    "    if \"bioguide_id\" not in sponsor:\n",
    "        continue\n",
    "    sponsor[\"party\"] = leg_map[sponsor[\"bioguide_id\"]][\"party\"]\n",
    "    cosponsor_party_count = {}\n",
    "    max_cosponsor_experience = -1\n",
    "    max_cosponsor_committee_rank_recips = 0\n",
    "    cosponsor_leadership = 0\n",
    "    for cosponsor in bill[\"cosponsors\"]: \n",
    "        if \"bioguide_id\" not in cosponsor:\n",
    "            continue\n",
    "        cosponsor[\"party\"] = leg_map[cosponsor[\"bioguide_id\"]][\"party\"]\n",
    "        congress_map = leg_map[cosponsor[\"bioguide_id\"]][\"congress_map\"]\n",
    "        max_cosponsor_experience = max(max_cosponsor_experience, congress_map[bill[\"congress\"]][\"experience\"])\n",
    "        max_cosponsor_committee_rank_recips = max(max_cosponsor_committee_rank_recips, congress_map[bill[\"congress\"]][\"committee_rank_recips\"])\n",
    "        if congress_map[bill[\"congress\"]][\"leadership\"] == 1:\n",
    "            cosponsor_leadership = 1\n",
    "        if cosponsor[\"party\"] not in cosponsor_party_count:\n",
    "            cosponsor_party_count[cosponsor[\"party\"]] = 0\n",
    "        cosponsor_party_count[cosponsor[\"party\"]] += 1\n",
    "    bill[\"total_cosponsors\"] = len(bill[\"cosponsors\"])\n",
    "    bill[\"cosponsor_party_count\"] = cosponsor_party_count\n",
    "    bill[\"nominate_variance\"] = pts_variance(get_nominates(leg_map, bill[\"cosponsors\"] + [bill[\"sponsor\"]]))\n",
    "    bill[\"max_cosponsor_experience\"] = max_cosponsor_experience\n",
    "    bill[\"max_cosponsor_committee_rank_recips\"] = max_cosponsor_committee_rank_recips\n",
    "    bill[\"cosponsor_leadership\"] = cosponsor_leadership\n",
    "    i += 1\n",
    "    if i % 10000 == 0:\n",
    "        print(\"Finished {} of {}\".format(i, total))"
   ]
  },
  {
   "cell_type": "code",
   "execution_count": 12,
   "metadata": {},
   "outputs": [],
   "source": [
    "bill_infos = []\n",
    "for bill in bills_map.values():\n",
    "    sponsor = leg_map[bill[\"sponsor\"][\"bioguide_id\"]]\n",
    "    congress_map = sponsor[\"congress_map\"]\n",
    "    bill_info  = {\n",
    "        \"bill_id\" : bill[\"bill_id\"],\n",
    "        \"chamber\" : \"senate\" if bill[\"bill_type\"] == \"s\" else \"house\",\n",
    "        \"sponsor_id\" : sponsor[\"id\"][\"bioguide\"],\n",
    "        \"sponsor_party\" : sponsor[\"party\"],\n",
    "        \"leadership\" : congress_map[bill[\"congress\"]][\"leadership\"],\n",
    "        \"experience\" : congress_map[bill[\"congress\"]][\"experience\"],\n",
    "        \"committee_count\" : congress_map[bill[\"congress\"]][\"committee_count\"],\n",
    "        \"committee_min_rank\" : congress_map[bill[\"congress\"]][\"committee_min_rank\"] if \"committee_min_rank\" in congress_map[bill[\"congress\"]] else None,\n",
    "        \"committee_max_coeff\" : congress_map[bill[\"congress\"]][\"max_coeff\"] if \"max_coeff\" in congress_map[bill[\"congress\"]] else None,\n",
    "        \"committee_rank_recips\" : congress_map[bill[\"congress\"]][\"committee_rank_recips\"],\n",
    "        \"total_cosponsors\" : bill[\"total_cosponsors\"],\n",
    "        \"same_party_cosponsors\" : bill[\"cosponsor_party_count\"][sponsor[\"party\"]] if sponsor[\"party\"] in bill[\"cosponsor_party_count\"] else 0,\n",
    "        \"nominate_variance\" : bill[\"nominate_variance\"],\n",
    "        \"congress\" : int(bill[\"congress\"]),\n",
    "        \"enacted\" : 0 if bill[\"enacted_as\"] is None else 1,\n",
    "        \"max_cosponsor_experience\" : bill[\"max_cosponsor_experience\"],\n",
    "        \"max_cosponsor_committee_rank_recips\" : bill[\"max_cosponsor_committee_rank_recips\"],\n",
    "        \"cosponsor_leadership\" : bill[\"cosponsor_leadership\"]\n",
    "    }\n",
    "    if bill_info[\"total_cosponsors\"] != 0:\n",
    "        bill_info[\"same_party_cosponsors_prop\"] = bill_info[\"same_party_cosponsors\"] / bill_info[\"total_cosponsors\"]\n",
    "    bill_infos.append(bill_info)\n",
    "bill_infos[5], bill_infos[0] = bill_infos[0], bill_infos[5]"
   ]
  },
  {
   "cell_type": "code",
   "execution_count": 13,
   "metadata": {},
   "outputs": [],
   "source": [
    "save_csv(bill_infos, \"data/bill_infos.csv\")"
   ]
  },
  {
   "cell_type": "code",
   "execution_count": null,
   "metadata": {},
   "outputs": [],
   "source": [
    "get_one_bill(engine)[\"congress\"]"
   ]
  },
  {
   "cell_type": "code",
   "execution_count": null,
   "metadata": {},
   "outputs": [],
   "source": []
  },
  {
   "cell_type": "code",
   "execution_count": null,
   "metadata": {},
   "outputs": [],
   "source": [
    "sum([bill_info[\"enacted\"] for bill_info in bill_infos]) / len(bill_infos)"
   ]
  },
  {
   "cell_type": "code",
   "execution_count": null,
   "metadata": {},
   "outputs": [],
   "source": []
  }
 ],
 "metadata": {
  "kernelspec": {
   "display_name": "Python 3",
   "language": "python",
   "name": "python3"
  },
  "language_info": {
   "codemirror_mode": {
    "name": "ipython",
    "version": 3
   },
   "file_extension": ".py",
   "mimetype": "text/x-python",
   "name": "python",
   "nbconvert_exporter": "python",
   "pygments_lexer": "ipython3",
   "version": "3.7.3"
  }
 },
 "nbformat": 4,
 "nbformat_minor": 4
}
