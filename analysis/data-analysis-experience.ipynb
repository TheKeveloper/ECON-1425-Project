{
 "cells": [
  {
   "cell_type": "code",
   "execution_count": 1,
   "metadata": {},
   "outputs": [],
   "source": [
    "from utils import *\n",
    "import math"
   ]
  },
  {
   "cell_type": "code",
   "execution_count": null,
   "metadata": {},
   "outputs": [],
   "source": [
    "def simple_experience_data(leg_map, field, congress = None, chamber = None):\n",
    "    xs = []\n",
    "    ys = []\n",
    "    if congress is not None:\n",
    "        congress = str(congress)\n",
    "        for leg in leg_map.values():\n",
    "            congress_map = leg[\"congress_map\"]\n",
    "            if congress in congress_map and field in congress_map[congress]:\n",
    "                if chamber is not None and congress_map[congress][\"chamber\"] != chamber:\n",
    "                    continue\n",
    "                xs.append(congress_map[congress][\"experience\"])\n",
    "                ys.append(congress_map[congress][field])\n",
    "    else:\n",
    "        for leg in leg_map.values():\n",
    "            congress_map = leg[\"congress_map\"]\n",
    "            for congress_val in congress_map.values():\n",
    "                if chamber is not None and congress_val[\"chamber\"] != chamber:\n",
    "                    continue\n",
    "                if field in congress_val:\n",
    "                    xs.append(congress_val[\"experience\"])\n",
    "                    ys.append(congress_val[field])\n",
    "    return (xs, ys)"
   ]
  },
  {
   "cell_type": "code",
   "execution_count": 2,
   "metadata": {},
   "outputs": [],
   "source": [
    "db, engine, meta = db_connect()"
   ]
  },
  {
   "cell_type": "code",
   "execution_count": 3,
   "metadata": {},
   "outputs": [],
   "source": [
    "tables = db_tables(meta)"
   ]
  },
  {
   "cell_type": "code",
   "execution_count": 15,
   "metadata": {},
   "outputs": [],
   "source": [
    "leg_map = get_leg_map(engine)"
   ]
  },
  {
   "cell_type": "code",
   "execution_count": null,
   "metadata": {},
   "outputs": [],
   "source": [
    "xs, ys = simple_experience_data(leg_map, \"bills_cosponsored\", chamber = \"house\")"
   ]
  },
  {
   "cell_type": "code",
   "execution_count": null,
   "metadata": {},
   "outputs": [],
   "source": [
    "plot_reg(xs, ys, title = \"Bills cosponsored vs experience: senate\", xlab = \"Experience\", ylab = \"bills cosponsored\")"
   ]
  },
  {
   "cell_type": "code",
   "execution_count": null,
   "metadata": {},
   "outputs": [],
   "source": [
    "list(leg_map.values())[0][\"congress_map\"]"
   ]
  },
  {
   "cell_type": "code",
   "execution_count": null,
   "metadata": {
    "scrolled": true
   },
   "outputs": [],
   "source": [
    "fields = [\"bills_sponsored\", \"bills_cosponsored\", \"cosponsors_per_bill\"]\n",
    "chambers = [\"senate\", \"house\"]\n",
    "\n",
    "for field in fields:\n",
    "    for chamber in chambers: \n",
    "        xs, ys = simple_experience_data(leg_map, field, chamber = chamber)\n",
    "        save_reg(xs, ys, title = \"{} vs experience - {}\".format(field, chamber), xlab = \"experience\", ylab = field)"
   ]
  },
  {
   "cell_type": "code",
   "execution_count": null,
   "metadata": {},
   "outputs": [],
   "source": [
    "nominate_xs = []\n",
    "nominate_ys = []\n",
    "for leg in leg_map.values():\n",
    "    if \"nominate\" in leg:\n",
    "        nominate_xs.append(len(leg[\"congress_map\"]))\n",
    "        nominate = leg['nominate']\n",
    "        nominate_ys.append(math.sqrt(nominate[\"dim1\"]**2 + nominate[\"dim2\"]**2))"
   ]
  },
  {
   "cell_type": "code",
   "execution_count": null,
   "metadata": {},
   "outputs": [],
   "source": [
    "save_reg(nominate_xs, nominate_ys, title = \"Extremism vs experience\", xlab = \"experience\", ylab = \"ideological extremism\")"
   ]
  },
  {
   "cell_type": "code",
   "execution_count": 9,
   "metadata": {},
   "outputs": [],
   "source": [
    "def get_all_congresses(leg_map):\n",
    "    all_congresses = []\n",
    "    for key, leg in leg_map.items():\n",
    "        for congress in leg[\"congress_map\"].values():\n",
    "            all_congresses.append({\"leg_id\" : key,  **congress})\n",
    "    return all_congresses"
   ]
  },
  {
   "cell_type": "code",
   "execution_count": 16,
   "metadata": {},
   "outputs": [],
   "source": [
    "all_congresses = get_all_congresses(leg_map)"
   ]
  },
  {
   "cell_type": "code",
   "execution_count": 17,
   "metadata": {},
   "outputs": [],
   "source": [
    "save_csv(all_congresses, \"data/all_congresses.csv\")"
   ]
  },
  {
   "cell_type": "code",
   "execution_count": null,
   "metadata": {},
   "outputs": [],
   "source": []
  },
  {
   "cell_type": "code",
   "execution_count": null,
   "metadata": {},
   "outputs": [],
   "source": []
  }
 ],
 "metadata": {
  "kernelspec": {
   "display_name": "Python 3",
   "language": "python",
   "name": "python3"
  },
  "language_info": {
   "codemirror_mode": {
    "name": "ipython",
    "version": 3
   },
   "file_extension": ".py",
   "mimetype": "text/x-python",
   "name": "python",
   "nbconvert_exporter": "python",
   "pygments_lexer": "ipython3",
   "version": "3.7.3"
  }
 },
 "nbformat": 4,
 "nbformat_minor": 4
}
