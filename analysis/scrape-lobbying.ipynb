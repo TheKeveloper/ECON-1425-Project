{
 "cells": [
  {
   "cell_type": "code",
   "execution_count": 1,
   "metadata": {},
   "outputs": [],
   "source": [
    "from bs4 import BeautifulSoup as soup\n",
    "import requests\n",
    "from utils import *\n",
    "import unidecode\n",
    "import textdistance"
   ]
  },
  {
   "cell_type": "code",
   "execution_count": null,
   "metadata": {},
   "outputs": [],
   "source": [
    "def get_html(url):\n",
    "    return requests.get(url).content.decode(\"utf-8\")"
   ]
  },
  {
   "cell_type": "code",
   "execution_count": null,
   "metadata": {},
   "outputs": [],
   "source": [
    "def get_soup(url):\n",
    "    return soup(requests.get(url).content, \"html.parser\")"
   ]
  },
  {
   "cell_type": "code",
   "execution_count": null,
   "metadata": {},
   "outputs": [],
   "source": [
    "page_soup = get_soup(\"https://www.opensecrets.org/revolving/top.php?display=Z\")"
   ]
  },
  {
   "cell_type": "code",
   "execution_count": null,
   "metadata": {},
   "outputs": [],
   "source": [
    "rightColumn = page_soup.find(id = \"rightColumn\")"
   ]
  },
  {
   "cell_type": "code",
   "execution_count": null,
   "metadata": {},
   "outputs": [],
   "source": [
    "uls = rightColumn.find_all(\"ul\")"
   ]
  },
  {
   "cell_type": "code",
   "execution_count": null,
   "metadata": {},
   "outputs": [],
   "source": [
    "senate_list = uls[0]\n",
    "house_list = uls[1]"
   ]
  },
  {
   "cell_type": "code",
   "execution_count": null,
   "metadata": {},
   "outputs": [],
   "source": [
    "for item in senate_list.find_all(\"li\") + house_list.find_all(\"li\"):\n",
    "    print(item.text[:-3], len(item.find_all(\"img\")) != 0)"
   ]
  },
  {
   "cell_type": "code",
   "execution_count": null,
   "metadata": {},
   "outputs": [],
   "source": [
    "former_legs = [{\"name\" : item.text[:-3].strip(), \"lobbyist\" : len(item.find_all(\"img\")) != 0} for item in senate_list.find_all(\"li\") + house_list.find_all(\"li\")]"
   ]
  },
  {
   "cell_type": "code",
   "execution_count": null,
   "metadata": {},
   "outputs": [],
   "source": [
    "def find_by_name(leg_map, last_name, first_name):\n",
    "    def clean_name(s):\n",
    "        return unidecode.unidecode(s.strip().lower().replace(\" \", \"\").replace(\"-\", \"\"))\n",
    "    last_name = clean_name(last_name)\n",
    "    first_name = clean_name(first_name)\n",
    "    cur_filter = [leg for leg in leg_map.values() if clean_name(leg[\"name\"][\"last\"]) == last_name]\n",
    "    if len(cur_filter) == 1:\n",
    "        return cur_filter[0]\n",
    "    if len(cur_filter) == 0:\n",
    "        cur_filter = [leg for leg in leg_map.values() if clean_name(leg[\"name\"][\"last\"]) in last_name or\n",
    "                            last_name in clean_name(leg[\"name\"][\"last\"])]\n",
    "    if len(cur_filter) > 1:\n",
    "        first_filter_strict = [leg for leg in cur_filter if first_name == clean_name(leg[\"name\"][\"first\"])]\n",
    "        if len(first_filter_strict) > 0:\n",
    "            cur_filter = first_filter_strict\n",
    "            \n",
    "    if len(cur_filter) == 1:\n",
    "        return cur_filter[0]\n",
    "    else:\n",
    "        # return cur_filter\n",
    "        return cur_filter"
   ]
  },
  {
   "cell_type": "code",
   "execution_count": null,
   "metadata": {},
   "outputs": [],
   "source": [
    "def add_bioguide(former_legs, name, bioguide):\n",
    "    for leg in former_legs:\n",
    "        if leg[\"name\"] == name:\n",
    "            leg[\"bioguide\"] = bioguide"
   ]
  },
  {
   "cell_type": "code",
   "execution_count": 5,
   "metadata": {},
   "outputs": [],
   "source": [
    "\n",
    "db, engine, meta = db_connect()"
   ]
  },
  {
   "cell_type": "code",
   "execution_count": 6,
   "metadata": {},
   "outputs": [],
   "source": [
    "tables = db_tables(meta)"
   ]
  },
  {
   "cell_type": "code",
   "execution_count": 7,
   "metadata": {},
   "outputs": [],
   "source": [
    "leg_map = get_leg_map(engine)"
   ]
  },
  {
   "cell_type": "code",
   "execution_count": 2,
   "metadata": {},
   "outputs": [],
   "source": [
    "former_legs = get_csv(\"data/former_legs.csv\")"
   ]
  },
  {
   "cell_type": "code",
   "execution_count": null,
   "metadata": {},
   "outputs": [],
   "source": [
    "unfindable = []\n",
    "for leg in former_legs:\n",
    "    if \"bioguide\" in leg and leg[\"bioguide\"] is not None:\n",
    "        continue\n",
    "    names = leg[\"name\"].split(\", \")\n",
    "    last_name = names[0]\n",
    "    first_name = names[1]\n",
    "    \n",
    "    found = sorted(find_by_name(leg_map, last_name, first_name), \n",
    "                   key = lambda x: textdistance.levenshtein(first_name + \" \"+ \n",
    "                                                            last_name,x[\"id\"][\"wikipedia\"]))\n",
    "                                                            #x[\"name\"][\"first\"] + \" \" + x[\"name\"][\"last\"]))\n",
    "    unfindable.append((leg[\"name\"], found))"
   ]
  },
  {
   "cell_type": "code",
   "execution_count": null,
   "metadata": {},
   "outputs": [],
   "source": [
    "print(len(unfindable))\n",
    "print(len(unfindable[1][1]))\n",
    "print(unfindable[1][0])\n",
    "unfindable[1][1][1]"
   ]
  },
  {
   "cell_type": "code",
   "execution_count": null,
   "metadata": {},
   "outputs": [],
   "source": [
    "add_bioguide(former_legs, \"Lipinski, Bill\", 'L000342')"
   ]
  },
  {
   "cell_type": "code",
   "execution_count": null,
   "metadata": {},
   "outputs": [],
   "source": [
    "save_csv(former_legs, \"data/former_legs.csv\")"
   ]
  },
  {
   "cell_type": "code",
   "execution_count": null,
   "metadata": {},
   "outputs": [],
   "source": [
    "for leg in former_legs:\n",
    "    leg[\"lobbyist\"] = 1 if leg[\"lobbyist\"] else 0"
   ]
  },
  {
   "cell_type": "code",
   "execution_count": null,
   "metadata": {},
   "outputs": [],
   "source": [
    "former_legs"
   ]
  },
  {
   "cell_type": "code",
   "execution_count": null,
   "metadata": {},
   "outputs": [],
   "source": [
    "leg_map[\"L000342\"]"
   ]
  },
  {
   "cell_type": "code",
   "execution_count": null,
   "metadata": {},
   "outputs": [],
   "source": [
    "former_legs = get_csv(\"data/former_legs.csv\")"
   ]
  },
  {
   "cell_type": "code",
   "execution_count": null,
   "metadata": {},
   "outputs": [],
   "source": [
    "former_leg[0]"
   ]
  },
  {
   "cell_type": "code",
   "execution_count": null,
   "metadata": {},
   "outputs": [],
   "source": [
    "for leg in former_legs:\n",
    "    if leg[\"bioguide\"] in leg_map:\n",
    "        leg_val = leg_map[leg[\"bioguide\"]]\n",
    "        congress_map = leg_val[\"congress_map\"]\n",
    "        if len(congress_map) == 0:\n",
    "            continue\n",
    "        last_congress = sorted(congress_map.values(), key = lambda x: x[\"congress\"])[-1]\n",
    "        if \"committee_min_rank\" in last_congress: \n",
    "            leg[\"last_min_committee_rank\"] = last_congress[\"committee_min_rank\"]\n",
    "            leg[\"last_max_coeff\"] = last_congress[\"max_coeff\"]\n",
    "        leg[\"last_committee_rank_recips\"] = last_congress[\"committee_rank_recips\"]\n",
    "        leg[\"last_committee_count\"] = last_congress[\"committee_count\"]\n",
    "        if \"cosponsors_per_bill\" in last_congress:\n",
    "            leg[\"last_cosponsors_per_bill\"] = last_congress[\"cosponsors_per_bill\"]\n",
    "        leg[\"last_congress\"] = last_congress[\"congress\"]\n",
    "        leg[\"last_leadership\"] = last_congress[\"leadership\"]\n",
    "        leg[\"last_cosponsored\"] = last_congress[\"bills_cosponsored\"]\n",
    "        if \"cosponsors_per_bill\" in last_congress:\n",
    "            leg[\"last_cosponsors_per_bill\"] = last_congress[\"cosponsors_per_bill\"]\n",
    "        leg[\"chamber\"] = last_congress[\"chamber\"]"
   ]
  },
  {
   "cell_type": "code",
   "execution_count": null,
   "metadata": {},
   "outputs": [],
   "source": [
    "for leg in former_legs:\n",
    "    if leg[\"bioguide\"] in leg_map:\n",
    "        leg_val = leg_map[leg[\"bioguide\"]]\n",
    "        leg[\"party\"] = leg_val[\"party\"]\n",
    "        leg[\"last_leadership\"] = "
   ]
  },
  {
   "cell_type": "code",
   "execution_count": null,
   "metadata": {},
   "outputs": [],
   "source": [
    "save_csv(former_legs, \"data/former_legs.csv\")"
   ]
  },
  {
   "cell_type": "code",
   "execution_count": null,
   "metadata": {},
   "outputs": [],
   "source": [
    "list(leg_map.values())[0][\"cosponsored_bills\"]"
   ]
  },
  {
   "cell_type": "code",
   "execution_count": null,
   "metadata": {},
   "outputs": [],
   "source": [
    "lobbying_congresses = []\n",
    "\n",
    "for former in former_legs:\n",
    "    if former[\"bioguide_id\"] in leg_map:\n",
    "        "
   ]
  }
 ],
 "metadata": {
  "kernelspec": {
   "display_name": "Python 3",
   "language": "python",
   "name": "python3"
  },
  "language_info": {
   "codemirror_mode": {
    "name": "ipython",
    "version": 3
   },
   "file_extension": ".py",
   "mimetype": "text/x-python",
   "name": "python",
   "nbconvert_exporter": "python",
   "pygments_lexer": "ipython3",
   "version": "3.7.3"
  }
 },
 "nbformat": 4,
 "nbformat_minor": 4
}
