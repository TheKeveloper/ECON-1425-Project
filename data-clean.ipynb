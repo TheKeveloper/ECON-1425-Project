{
 "cells": [
  {
   "cell_type": "code",
   "execution_count": 1,
   "metadata": {},
   "outputs": [],
   "source": [
    "import json\n",
    "from datetime import datetime"
   ]
  },
  {
   "cell_type": "code",
   "execution_count": 2,
   "metadata": {},
   "outputs": [],
   "source": [
    "def get_json(path : str):\n",
    "    with open(path, \"r\") as f:\n",
    "        return json.load(f)"
   ]
  },
  {
   "cell_type": "code",
   "execution_count": 3,
   "metadata": {},
   "outputs": [],
   "source": [
    "def save_json(obj : any, path : str):\n",
    "    with open(path, \"w+\") as f:\n",
    "        json.dump(obj, f)"
   ]
  },
  {
   "cell_type": "code",
   "execution_count": 4,
   "metadata": {},
   "outputs": [],
   "source": [
    "legislators = get_json(\"data/legislators_all.json\")"
   ]
  },
  {
   "cell_type": "code",
   "execution_count": 5,
   "metadata": {},
   "outputs": [],
   "source": [
    "for legislator in legislators:\n",
    "    party = None\n",
    "    for term in legislator[\"terms\"]:\n",
    "        if party == None and \"party\" in term:\n",
    "            party = term[\"party\"]\n",
    "        if \"party\" in term and term[\"party\"] != party:\n",
    "            party = \"multiple\"\n",
    "    legislator[\"party\"] = party"
   ]
  },
  {
   "cell_type": "code",
   "execution_count": 6,
   "metadata": {},
   "outputs": [],
   "source": [
    "# Get only legislators who's last term was at least 1972\n",
    "recent_legislators = [leg for leg in legislators if leg[\"terms\"][-1][\"end\"] > \"1970-01-01\"]"
   ]
  },
  {
   "cell_type": "code",
   "execution_count": 7,
   "metadata": {},
   "outputs": [],
   "source": [
    "for leg in recent_legislators:\n",
    "    state = leg[\"terms\"][0][\"state\"]\n",
    "    for term in leg[\"terms\"]:\n",
    "        if term[\"state\"] != state:\n",
    "            state = \"multiple\"\n",
    "    leg[\"state\"] = state"
   ]
  },
  {
   "cell_type": "code",
   "execution_count": 8,
   "metadata": {},
   "outputs": [],
   "source": [
    "save_json(recent_legislators, \"data/legislators_recent.json\")"
   ]
  },
  {
   "cell_type": "code",
   "execution_count": 9,
   "metadata": {},
   "outputs": [],
   "source": [
    "recent_legislators_dict = {}\n",
    "for leg in recent_legislators:\n",
    "    if \"thomas\" in leg[\"id\"]:\n",
    "        recent_legislators_dict[leg[\"id\"][\"thomas\"]] = leg\n",
    "    recent_legislators_dict[leg[\"id\"][\"bioguide\"]] = leg"
   ]
  },
  {
   "cell_type": "code",
   "execution_count": 10,
   "metadata": {},
   "outputs": [],
   "source": [
    "save_json(recent_legislators_dict, \"data/recent_legislators_map.json\")"
   ]
  },
  {
   "cell_type": "code",
   "execution_count": 13,
   "metadata": {},
   "outputs": [
    {
     "data": {
      "text/plain": [
       "34"
      ]
     },
     "execution_count": 13,
     "metadata": {},
     "output_type": "execute_result"
    }
   ],
   "source": [
    "len([leg for leg in recent_legislators if leg[\"party\"] == \"multiple\"])"
   ]
  },
  {
   "cell_type": "code",
   "execution_count": 14,
   "metadata": {},
   "outputs": [
    {
     "data": {
      "text/plain": [
       "0"
      ]
     },
     "execution_count": 14,
     "metadata": {},
     "output_type": "execute_result"
    }
   ],
   "source": [
    "len([leg for leg in recent_legislators if leg[\"state\"] == \"multiple\"])"
   ]
  },
  {
   "cell_type": "code",
   "execution_count": null,
   "metadata": {},
   "outputs": [],
   "source": []
  }
 ],
 "metadata": {
  "kernelspec": {
   "display_name": "Python 3",
   "language": "python",
   "name": "python3"
  },
  "language_info": {
   "codemirror_mode": {
    "name": "ipython",
    "version": 3
   },
   "file_extension": ".py",
   "mimetype": "text/x-python",
   "name": "python",
   "nbconvert_exporter": "python",
   "pygments_lexer": "ipython3",
   "version": "3.7.0"
  }
 },
 "nbformat": 4,
 "nbformat_minor": 2
}
