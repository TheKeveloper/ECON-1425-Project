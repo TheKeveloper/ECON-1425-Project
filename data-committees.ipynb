{
 "cells": [
  {
   "cell_type": "code",
   "execution_count": 1,
   "metadata": {},
   "outputs": [],
   "source": [
    "from utils import *\n",
    "import numpy as np\n",
    "import unidecode"
   ]
  },
  {
   "cell_type": "code",
   "execution_count": 2,
   "metadata": {},
   "outputs": [],
   "source": [
    "db, engine, meta = db_connect()"
   ]
  },
  {
   "cell_type": "code",
   "execution_count": 3,
   "metadata": {},
   "outputs": [],
   "source": [
    "tables = db_tables(meta)"
   ]
  },
  {
   "cell_type": "code",
   "execution_count": 4,
   "metadata": {},
   "outputs": [],
   "source": [
    "leg_map = get_leg_map(engine)"
   ]
  },
  {
   "cell_type": "code",
   "execution_count": 5,
   "metadata": {},
   "outputs": [
    {
     "data": {
      "text/plain": [
       "{'110': {'chamber': 'senate',\n",
       "  'congress': 110,\n",
       "  'bills_sponsored': 15,\n",
       "  'total_cosponsors': 28,\n",
       "  'bills_cosponsored': 61,\n",
       "  'cosponsors_per_bill': 1.8666666666666667,\n",
       "  'cosponsored_sponsored_ratio': 4.066666666666666,\n",
       "  'z_bills_sponsored': -0.833809634522492,\n",
       "  'z_bills_cosponsored': -1.3986844463050083,\n",
       "  'z_cosponsors_per_bill': -1.1806980542049446,\n",
       "  'z_cosponsored_sponsored_ratio': -0.6065545631607324,\n",
       "  'experience': 0,\n",
       "  'committee_rank_recips': 0.13392857142857142,\n",
       "  'committee_min_rank': 14.0,\n",
       "  'committee_count': 4,\n",
       "  'max_coeff': -0.05,\n",
       "  'leadership': 0},\n",
       " '111': {'chamber': 'senate',\n",
       "  'congress': 111,\n",
       "  'bills_sponsored': 16,\n",
       "  'total_cosponsors': 31,\n",
       "  'bills_cosponsored': 88,\n",
       "  'cosponsors_per_bill': 1.9375,\n",
       "  'cosponsored_sponsored_ratio': 5.5,\n",
       "  'z_bills_sponsored': -0.7390674214923396,\n",
       "  'z_bills_cosponsored': -0.7832512437234525,\n",
       "  'z_cosponsors_per_bill': -0.5368520518913603,\n",
       "  'z_cosponsored_sponsored_ratio': -0.11193706915066166,\n",
       "  'experience': 1,\n",
       "  'committee_rank_recips': 0.13392857142857142,\n",
       "  'committee_min_rank': 14.0,\n",
       "  'committee_count': 4,\n",
       "  'max_coeff': -0.05,\n",
       "  'leadership': 0},\n",
       " '112': {'chamber': 'senate',\n",
       "  'congress': 112,\n",
       "  'bills_sponsored': 18,\n",
       "  'total_cosponsors': 200,\n",
       "  'bills_cosponsored': 163,\n",
       "  'cosponsors_per_bill': 11.11111111111111,\n",
       "  'cosponsored_sponsored_ratio': 9.055555555555555,\n",
       "  'z_bills_sponsored': -0.5551662819757334,\n",
       "  'z_bills_cosponsored': 0.04570116543296769,\n",
       "  'z_cosponsors_per_bill': 1.6990809169607446,\n",
       "  'z_cosponsored_sponsored_ratio': 0.13626394893896254,\n",
       "  'experience': 2,\n",
       "  'committee_rank_recips': 0.13392857142857142,\n",
       "  'committee_min_rank': 14.0,\n",
       "  'committee_count': 4,\n",
       "  'max_coeff': -0.05,\n",
       "  'leadership': 0},\n",
       " '113': {'chamber': 'senate',\n",
       "  'congress': 113,\n",
       "  'bills_sponsored': 27,\n",
       "  'total_cosponsors': 258,\n",
       "  'bills_cosponsored': 154,\n",
       "  'cosponsors_per_bill': 9.555555555555555,\n",
       "  'cosponsored_sponsored_ratio': 5.703703703703703,\n",
       "  'z_bills_sponsored': -0.0957320685780494,\n",
       "  'z_bills_cosponsored': -0.1929160484333198,\n",
       "  'z_cosponsors_per_bill': 1.214617479760712,\n",
       "  'z_cosponsored_sponsored_ratio': -0.3594595623244047,\n",
       "  'experience': 3,\n",
       "  'committee_rank_recips': 0.13392857142857142,\n",
       "  'committee_min_rank': 14.0,\n",
       "  'committee_count': 4,\n",
       "  'max_coeff': -0.05,\n",
       "  'leadership': 0},\n",
       " '114': {'chamber': 'senate',\n",
       "  'congress': 114,\n",
       "  'bills_sponsored': 35,\n",
       "  'total_cosponsors': 241,\n",
       "  'bills_cosponsored': 134,\n",
       "  'cosponsors_per_bill': 6.885714285714286,\n",
       "  'cosponsored_sponsored_ratio': 3.8285714285714287,\n",
       "  'z_bills_sponsored': -0.024274966236932614,\n",
       "  'z_bills_cosponsored': -0.7686824672987472,\n",
       "  'z_cosponsors_per_bill': 0.5367680212937428,\n",
       "  'z_cosponsored_sponsored_ratio': -0.7836605742158744,\n",
       "  'experience': 4,\n",
       "  'committee_rank_recips': 0.13392857142857142,\n",
       "  'committee_min_rank': 14.0,\n",
       "  'committee_count': 4,\n",
       "  'max_coeff': -0.05,\n",
       "  'leadership': 0},\n",
       " '115': {'chamber': 'senate',\n",
       "  'congress': 115,\n",
       "  'bills_sponsored': 28,\n",
       "  'total_cosponsors': 196,\n",
       "  'bills_cosponsored': 104,\n",
       "  'cosponsors_per_bill': 7.0,\n",
       "  'cosponsored_sponsored_ratio': 3.7142857142857144,\n",
       "  'z_bills_sponsored': -0.4150039254240663,\n",
       "  'z_bills_cosponsored': -0.9416169048152673,\n",
       "  'z_cosponsors_per_bill': 0.5315426297893185,\n",
       "  'z_cosponsored_sponsored_ratio': -0.7094440607212751,\n",
       "  'experience': 5,\n",
       "  'committee_rank_recips': 0.13392857142857142,\n",
       "  'committee_min_rank': 14.0,\n",
       "  'committee_count': 4,\n",
       "  'max_coeff': -0.05,\n",
       "  'leadership': 0}}"
      ]
     },
     "execution_count": 5,
     "metadata": {},
     "output_type": "execute_result"
    }
   ],
   "source": [
    "list(leg_map.values())[0][\"congress_map\"]"
   ]
  },
  {
   "cell_type": "code",
   "execution_count": null,
   "metadata": {},
   "outputs": [],
   "source": [
    "house_assignments = get_csv(\"data/house_assignments_103-115.csv\")\n",
    "for assignment in house_assignments:\n",
    "    assignment[\"chamber\"] = \"house\""
   ]
  },
  {
   "cell_type": "code",
   "execution_count": null,
   "metadata": {},
   "outputs": [],
   "source": [
    "senate_assignments = get_csv(\"data/senate_assignments_103-115.csv\")\n",
    "for assignment in senate_assignments:\n",
    "    assignment[\"chamber\"] = \"senate\""
   ]
  },
  {
   "cell_type": "code",
   "execution_count": null,
   "metadata": {},
   "outputs": [],
   "source": [
    "for assignment in house_assignments + senate_assignments:\n",
    "    assignment[\"congress\"] = assignment.pop(\"\\ufeffcongress\")"
   ]
  },
  {
   "cell_type": "code",
   "execution_count": null,
   "metadata": {},
   "outputs": [],
   "source": [
    "def find_by_name(leg_map, last_name, first_name):\n",
    "    def clean_name(s):\n",
    "        return unidecode.unidecode(s.strip().lower().replace(\" \", \"\").replace(\"-\", \"\"))\n",
    "    last_name = clean_name(last_name)\n",
    "    first_name = clean_name(first_name)\n",
    "    cur_filter = [leg for leg in leg_map.values() if clean_name(leg[\"name\"][\"last\"]) == last_name]\n",
    "    if len(cur_filter) == 1:\n",
    "        return cur_filter[0]\n",
    "    if len(cur_filter) == 0:\n",
    "        cur_filter = [leg for leg in leg_map.values() if clean_name(leg[\"name\"][\"last\"]) in last_name or\n",
    "                            last_name in clean_name(leg[\"name\"][\"last\"])]\n",
    "    if len(cur_filter) > 1:\n",
    "        first_filter_strict = [leg for leg in cur_filter if first_name == clean_name(leg[\"name\"][\"first\"])]\n",
    "        if len(first_filter_strict) > 0:\n",
    "            cur_filter = first_filter_strict\n",
    "            \n",
    "    if len(cur_filter) == 1:\n",
    "        return cur_filter[0]\n",
    "    else:\n",
    "        # return cur_filter\n",
    "        print(len(cur_filter))\n",
    "        raise Exception(\"Unable to find {} {}\".format(first_name, last_name))"
   ]
  },
  {
   "cell_type": "code",
   "execution_count": null,
   "metadata": {},
   "outputs": [],
   "source": [
    "for assignment in house_assignments + senate_assignments:\n",
    "    try: \n",
    "        if not isinstance(assignment[\"bioguide\"], str) or len(assignment[\"bioguide\"].strip()) == 0:\n",
    "                names = assignment[\"Name\"].split(\", \")\n",
    "                last_name = names[0]\n",
    "                first_name = names[1]\n",
    "                if(first_name[-1] == \".\"):\n",
    "                    first_name = first_name[:-2]\n",
    "                assignment[\"bioguide\"] = find_by_name(leg_map, last_name, first_name)[\"id\"][\"bioguide\"]\n",
    "    except:\n",
    "        print(assignment[\"Name\"])\n",
    "        # print(assignment)\n",
    "        # raise Exception()"
   ]
  },
  {
   "cell_type": "code",
   "execution_count": null,
   "metadata": {},
   "outputs": [],
   "source": [
    "def add_bioguide(assignments, name, bioguide):\n",
    "    for assignment in assignments:\n",
    "        if assignment[\"Name\"] == name:\n",
    "            assignment[\"bioguide\"] = bioguide"
   ]
  },
  {
   "cell_type": "code",
   "execution_count": null,
   "metadata": {},
   "outputs": [],
   "source": [
    "find_by_name(leg_map, \"\", \"Jenniffer\")"
   ]
  },
  {
   "cell_type": "code",
   "execution_count": null,
   "metadata": {},
   "outputs": [],
   "source": [
    "add_bioguide(senate_assignments + house_assignments, \"González, Jenniffer\", 'G000582')"
   ]
  },
  {
   "cell_type": "code",
   "execution_count": null,
   "metadata": {},
   "outputs": [],
   "source": [
    "list(range(10))[:-2]"
   ]
  },
  {
   "cell_type": "code",
   "execution_count": null,
   "metadata": {},
   "outputs": [],
   "source": [
    "leg_map[\"R000600\"]"
   ]
  },
  {
   "cell_type": "code",
   "execution_count": null,
   "metadata": {},
   "outputs": [],
   "source": [
    "save_csv(house_assignments, \"data/house_assignments_103-115.csv\")"
   ]
  },
  {
   "cell_type": "code",
   "execution_count": null,
   "metadata": {},
   "outputs": [],
   "source": [
    "save_csv(senate_assignments, \"data/senate_assignments_103-115.csv\")"
   ]
  },
  {
   "cell_type": "code",
   "execution_count": null,
   "metadata": {},
   "outputs": [],
   "source": [
    "for leg in leg_map.values():\n",
    "    leg[\"committees\"] = {}\n",
    "for assignment in house_assignments + senate_assignments:\n",
    "    if len(assignment[\"bioguide\"]) == 0:\n",
    "        continue\n",
    "    leg = leg_map[assignment[\"bioguide\"]]\n",
    "    if \"committees\" not in leg:\n",
    "        leg[\"committees\"] = {}\n",
    "    committees = leg[\"committees\"]\n",
    "    if \"congress\" not in assignment:\n",
    "        raise Exception(assignment)\n",
    "    congress = assignment[\"congress\"]\n",
    "    if congress not in committees:\n",
    "        committees[congress] = []\n",
    "    assignment[\"committee_name\"] = assignment[\"committee_name\"].strip().lower()\n",
    "    \n",
    "    committees[congress].append(assignment)"
   ]
  },
  {
   "cell_type": "code",
   "execution_count": null,
   "metadata": {},
   "outputs": [],
   "source": [
    "list(leg_map.values())[0][\"committees\"]"
   ]
  },
  {
   "cell_type": "code",
   "execution_count": null,
   "metadata": {},
   "outputs": [],
   "source": [
    "for leg in leg_map.values():\n",
    "    for congress in leg[\"congress_map\"].values():\n",
    "        congress[\"leadership\"] = 0"
   ]
  },
  {
   "cell_type": "code",
   "execution_count": null,
   "metadata": {},
   "outputs": [],
   "source": [
    "for assignment in senate_assignments + house_assignments:\n",
    "    if \"minority\" in assignment[\"committee_name\"] or \"majority\" in assignment[\"committee_name\"] or \"speaker\" in assignment[\"committee_name\"]:\n",
    "        if str(assignment[\"congress\"]) not in leg_map[assignment[\"bioguide\"]][\"congress_map\"]:\n",
    "            print(assignment)\n",
    "            continue\n",
    "        leg_map[assignment[\"bioguide\"]][\"congress_map\"][assignment[\"congress\"]][\"leadership\"] = 1"
   ]
  },
  {
   "cell_type": "code",
   "execution_count": null,
   "metadata": {},
   "outputs": [],
   "source": [
    "leg_map['F000268'][\"congress_map\"][\"103\"]"
   ]
  },
  {
   "cell_type": "code",
   "execution_count": null,
   "metadata": {},
   "outputs": [],
   "source": [
    "senate_mappings = get_json(\"data/senate_committee_mapping.json\")\n",
    "house_mappings = get_json(\"data/house_committee_mapping.json\")"
   ]
  },
  {
   "cell_type": "code",
   "execution_count": null,
   "metadata": {},
   "outputs": [],
   "source": []
  },
  {
   "cell_type": "code",
   "execution_count": null,
   "metadata": {},
   "outputs": [],
   "source": [
    "senate_committee_values = get_csv(\"data/senate_committee_values.csv\")\n",
    "house_committee_values = get_csv(\"data/house_committee_values.csv\")"
   ]
  },
  {
   "cell_type": "code",
   "execution_count": null,
   "metadata": {},
   "outputs": [],
   "source": [
    "senate_values_map = {}\n",
    "house_values_map = {}\n",
    "for committee in senate_committee_values + house_committee_values: \n",
    "    for key, value in committee.items():\n",
    "        if key != \"committee\" and len(value) > 0:\n",
    "            committee[key] = float(value)\n",
    "        elif len(value) == 0:\n",
    "            committee[key] = None\n",
    "for committee in senate_committee_values:\n",
    "    senate_values_map[committee[\"committee\"]] = committee\n",
    "for committee in house_committee_values:\n",
    "    house_values_map[committee[\"committee\"]] = committee"
   ]
  },
  {
   "cell_type": "code",
   "execution_count": null,
   "metadata": {},
   "outputs": [],
   "source": [
    "save_json(senate_values_map, \"data/senate_values_map.json\")\n",
    "save_json(house_values_map, \"data/house_values_map.json\")"
   ]
  },
  {
   "cell_type": "code",
   "execution_count": null,
   "metadata": {},
   "outputs": [],
   "source": [
    "for leg in leg_map.values():\n",
    "    congress_map = leg[\"congress_map\"]\n",
    "    if \"committees\" in leg:\n",
    "        for congress_key, congress_val in leg[\"committees\"].items():\n",
    "            for assignment in congress_val:\n",
    "                if assignment[\"chamber\"] == \"senate\":\n",
    "                    if assignment[\"committee_name\"] in senate_mappings:\n",
    "                        committee_value = senate_values_map[senate_mappings[assignment[\"committee_name\"]]]\n",
    "                        assignment[\"committee_coeff\"] = committee_value[\"coeff\"]\n",
    "                        assignment[\"committee_rank\"] = committee_value[\"rank\"]\n",
    "                else:\n",
    "                    if assignment[\"committee_name\"] in house_mappings:\n",
    "                        committee_value = house_values_map[house_mappings[assignment[\"committee_name\"]]]\n",
    "                        assignment[\"committee_coeff\"] = committee_value[\"coeff\"]\n",
    "                        assignment[\"committee_rank\"] = committee_value[\"rank\"]"
   ]
  },
  {
   "cell_type": "code",
   "execution_count": null,
   "metadata": {},
   "outputs": [],
   "source": [
    "list(leg_map.values())[0][\"committees\"]"
   ]
  },
  {
   "cell_type": "code",
   "execution_count": null,
   "metadata": {},
   "outputs": [],
   "source": [
    "def rank_recip_sums(assignments):\n",
    "    return sum([1 / assignment[\"committee_rank\"] for assignment in assignments if \"committee_rank\" in assignment and assignment[\"committee_rank\"] is not None])"
   ]
  },
  {
   "cell_type": "code",
   "execution_count": null,
   "metadata": {},
   "outputs": [],
   "source": [
    "def min_rank(assignments):\n",
    "    ranks = [assignment[\"committee_rank\"] for assignment in assignments if \"committee_rank\" in assignment and assignment[\"committee_rank\"] is not None]\n",
    "    if len(ranks) == 0:\n",
    "        return None\n",
    "    else:\n",
    "        return min(ranks)\n",
    "    "
   ]
  },
  {
   "cell_type": "code",
   "execution_count": null,
   "metadata": {},
   "outputs": [],
   "source": [
    "def max_coeff(assignments):\n",
    "    coeffs = [assignment[\"committee_coeff\"] for assignment in assignments if \"committee_coeff\" in assignment and assignment[\"committee_coeff\"] is not None]\n",
    "    if len(coeffs) == 0:\n",
    "        return None\n",
    "    else:\n",
    "        return max(coeffs)\n",
    "    \n",
    "    "
   ]
  },
  {
   "cell_type": "code",
   "execution_count": null,
   "metadata": {},
   "outputs": [],
   "source": []
  },
  {
   "cell_type": "code",
   "execution_count": null,
   "metadata": {},
   "outputs": [],
   "source": [
    "for leg in leg_map.values():\n",
    "    committee_map = leg[\"committees\"]\n",
    "    for congress in leg[\"congress_map\"].values():\n",
    "        str_congress = str(congress[\"congress\"])\n",
    "        if str_congress in committee_map:\n",
    "            congress[\"committee_rank_recips\"] = rank_recip_sums(committee_map[str_congress])\n",
    "            congress[\"committee_min_rank\"] = min_rank(committee_map[str_congress])\n",
    "            congress[\"committee_count\"] = len(committee_map[str_congress])\n",
    "            congress[\"max_coeff\"] = max_coeff(committee_map[str_congress])\n",
    "        else:\n",
    "            congress[\"committee_count\"] = 0\n",
    "            congress[\"committee_rank_recips\"] = 0"
   ]
  },
  {
   "cell_type": "code",
   "execution_count": null,
   "metadata": {},
   "outputs": [],
   "source": [
    "list(leg_map.values())[0][\"congress_map\"]"
   ]
  },
  {
   "cell_type": "code",
   "execution_count": null,
   "metadata": {},
   "outputs": [],
   "source": [
    "update_all(engine, tables[\"leg\"], leg_map, verbose = True, increment = 100)"
   ]
  },
  {
   "cell_type": "code",
   "execution_count": null,
   "metadata": {},
   "outputs": [],
   "source": []
  }
 ],
 "metadata": {
  "kernelspec": {
   "display_name": "Python 3",
   "language": "python",
   "name": "python3"
  },
  "language_info": {
   "codemirror_mode": {
    "name": "ipython",
    "version": 3
   },
   "file_extension": ".py",
   "mimetype": "text/x-python",
   "name": "python",
   "nbconvert_exporter": "python",
   "pygments_lexer": "ipython3",
   "version": "3.7.3"
  }
 },
 "nbformat": 4,
 "nbformat_minor": 4
}
